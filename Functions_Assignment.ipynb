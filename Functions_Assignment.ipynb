{
  "nbformat": 4,
  "nbformat_minor": 0,
  "metadata": {
    "colab": {
      "provenance": [],
      "authorship_tag": "ABX9TyMkrBgyEu88W/uqtQeOd3SM",
      "include_colab_link": true
    },
    "kernelspec": {
      "name": "python3",
      "display_name": "Python 3"
    },
    "language_info": {
      "name": "python"
    }
  },
  "cells": [
    {
      "cell_type": "markdown",
      "metadata": {
        "id": "view-in-github",
        "colab_type": "text"
      },
      "source": [
        "<a href=\"https://colab.research.google.com/github/mrpahadi2609/Data_Structure/blob/main/Functions_Assignment.ipynb\" target=\"_parent\"><img src=\"https://colab.research.google.com/assets/colab-badge.svg\" alt=\"Open In Colab\"/></a>"
      ]
    },
    {
      "cell_type": "markdown",
      "source": [
        "THEORETICAL QUESTIONS"
      ],
      "metadata": {
        "id": "wwfwlmOkObi0"
      }
    },
    {
      "cell_type": "code",
      "execution_count": null,
      "metadata": {
        "id": "wmTjy2ga7vkJ"
      },
      "outputs": [],
      "source": [
        "## QUES 1) What is the difference between a function and a method in Python?"
      ]
    },
    {
      "cell_type": "markdown",
      "source": [
        "In Python, the main difference between a function and a method lies in how they are called and where they are defined.\n",
        "\n",
        "A function in Python is a block of code that performs a specific task and can be defined using the `def` keyword. Functions are standalone entities and are not associated with any specific object or class. They can be called directly by their name.\n",
        "\n",
        "On the other hand, a method in Python is a function that belongs to a specific class or object. Methods are defined within a class and are associated with objects created from that class. When a method is called, it is implicitly passed the object on which it is called, allowing it to operate on the data within that object.\n",
        "\n",
        "Here's a simple example to illustrate the difference:\n",
        "```python\n",
        "# Function definition\n",
        "def greet():\n",
        "    print(\"Hello, World!\")\n",
        "\n",
        "# Method definition within a class\n",
        "class MyClass:\n",
        "    def greet(self):\n",
        "        print(\"Hello, from MyClass!\")\n",
        "\n",
        "# Function call\n",
        "greet()\n",
        "\n",
        "# Method call\n",
        "obj = MyClass()\n",
        "obj.greet()\n",
        "```\n",
        "\n",
        "In this example, `greet()` is a function that can be called directly, while `greet()` inside the `MyClass` class is a method that is called on an instance of the class `MyClass`. Functions are more general-purpose and can be used independently, whereas methods are specific to the class they are defined in and operate on the data associated with instances of that class."
      ],
      "metadata": {
        "id": "EI1pMfW8Bz5e"
      }
    },
    {
      "cell_type": "code",
      "source": [
        "## QUES 2) Explain the concept of function arguments and parameters in Python"
      ],
      "metadata": {
        "id": "A6xT-aUsCmXM"
      },
      "execution_count": null,
      "outputs": []
    },
    {
      "cell_type": "markdown",
      "source": [
        "In Python, function arguments and parameters play a crucial role in defining and calling functions. Parameters are the placeholders in the function definition that specify what kind of values the function expects to receive. Arguments, on the other hand, are the actual values that are passed to the function when it is called.\n",
        "\n",
        "When defining a function, you specify the parameters inside the parentheses following the function name. These parameters act as variables within the function's scope and are used to work with the values passed to the function. Here's an example:\n",
        "\n",
        "```python\n",
        "def multiply(x, y):\n",
        "    return x * y\n",
        "```\n",
        "\n",
        "In this function, \"x\" and \"y\" are the parameters. They define the structure of the function and indicate that the function expects two values to be passed when it is called.\n",
        "\n",
        "When calling a function in Python, you provide the actual values, known as arguments, that correspond to the parameters defined in the function. Here's how you would call the \"multiply\" function:\n",
        "\n",
        "```python\n",
        "result = multiply(5, 3)\n",
        "print(result)\n",
        "```\n",
        "\n",
        "In this call, 5 and 3 are the arguments passed to the function, which will be multiplied together to produce the result.\n",
        "\n",
        "Python supports different types of function arguments, including positional arguments, keyword arguments, default arguments, and variable-length arguments. Positional arguments are passed based on their position in the function definition, while keyword arguments are identified by parameter names. Default arguments have predefined values and are used when an argument is not provided. Variable-length arguments allow functions to accept a varying number of arguments.\n",
        "\n",
        "Understanding how arguments and parameters work in Python is essential for writing flexible and reusable functions."
      ],
      "metadata": {
        "id": "-XjI_zyPEurn"
      }
    },
    {
      "cell_type": "code",
      "source": [
        "## QUES 3) What are the different ways to define and call a function in Python?"
      ],
      "metadata": {
        "id": "It1-5iKTDRQx"
      },
      "execution_count": null,
      "outputs": []
    },
    {
      "cell_type": "markdown",
      "source": [
        "In Python, there are a few ways to define and call functions. When defining a function, you typically use the \"def\" keyword followed by the function name and parentheses containing any parameters the function takes. Here's an example:\n",
        "\n",
        "```python\n",
        "def greet(name):\n",
        "    return \"Hello, \" + name\n",
        "```\n",
        "\n",
        "In this example, the function is named \"greet\" and takes one parameter \"name\". It returns a greeting message with the provided name.\n",
        "\n",
        "Another way to define functions is by using lambda functions. Lambda functions are small, anonymous functions defined using the lambda keyword. They can have any number of arguments but can only have one expression. Here's an example of a lambda function:\n",
        "\n",
        "```python\n",
        "add = lambda x, y: x + y\n",
        "```\n",
        "\n",
        "This lambda function named \"add\" takes two arguments x and y and returns their sum.\n",
        "\n",
        "To call a function in Python, you simply write the function name followed by parentheses containing any arguments you want to pass to the function. Here's how you would call the \"greet\" function defined earlier:\n",
        "\n",
        "```python\n",
        "message = greet(\"Alice\")\n",
        "print(message)\n",
        "```\n",
        "\n",
        "This would output: \"Hello, Alice\".\n",
        "\n",
        "Similarly, you can call lambda functions in the same way. For example, to call the \"add\" lambda function:\n",
        "\n",
        "```python\n",
        "result = add(3, 4)\n",
        "print(result)\n",
        "```\n",
        "\n",
        "This would output: 7.\n",
        "\n",
        "These are some of the ways you can define and call functions in Python."
      ],
      "metadata": {
        "id": "aiNmJaFQDp7F"
      }
    },
    {
      "cell_type": "code",
      "source": [
        "## QUES 4) What is the purpose of the `return` statement in a Python function?"
      ],
      "metadata": {
        "id": "arCMlPnEFFvw"
      },
      "execution_count": null,
      "outputs": []
    },
    {
      "cell_type": "markdown",
      "source": [
        "The `return` statement in a Python function serves the purpose of specifying the value that the function should output or return when it is called. When a function reaches a `return` statement, it immediately exits the function and passes the specified value back to the caller.\n",
        "\n",
        "For example, consider a function that calculates the square of a number:\n",
        "\n",
        "```python\n",
        "def square(num):\n",
        "    return num ** 2\n",
        "```\n",
        "\n",
        "In this function, the `return num ** 2` statement indicates that the function should return the square of the input `num`. When the function is called and the calculation is done, the result is passed back to the caller using the `return` statement.\n",
        "\n",
        "The `return` statement allows functions to produce output that can be stored in variables, printed, or used in further calculations. It is a critical component of functions in Python as it enables functions to perform computations and provide results to the code that called them.\n",
        "\n",
        "It's important to note that a function can have multiple `return` statements, but only one will be executed during the function's execution. Once a `return` statement is encountered, the function exits, and any subsequent code in the function is not executed.\n",
        "\n",
        "By using the `return` statement effectively, you can create functions that perform specific tasks and provide useful results to the rest of your Python program."
      ],
      "metadata": {
        "id": "c_MH1B7gFMTH"
      }
    },
    {
      "cell_type": "code",
      "source": [
        "## QUES 5) What are iterators in Python and how do they differ from iterables?"
      ],
      "metadata": {
        "id": "E8qEGXx0GS5u"
      },
      "execution_count": null,
      "outputs": []
    },
    {
      "cell_type": "markdown",
      "source": [
        "In Python, iterators and iterables are essential concepts for working with sequences of data.\n",
        "\n",
        "Iterables are objects that can be iterated over, meaning you can loop through their elements. Examples of iterables include lists, tuples, dictionaries, and strings. These objects can be used in a `for` loop because they have a special method called `__iter__()` that allows iteration over their elements.\n",
        "\n",
        "On the other hand, iterators are objects that implement the `__iter__()` and `__next__()` methods. The `__iter__()` method returns the iterator object itself, and the `__next__()` method retrieves the next element from the iterable. When you use an iterator, it keeps track of the current state during iteration, allowing you to access elements one by one.\n",
        "\n",
        "The key difference between iterables and iterators is that while all iterators are iterables, not all iterables are iterators. Iterables can be converted into iterators using the `iter()` function, which returns an iterator object from an iterable. This iterator object can then be used to retrieve elements one at a time using the `next()` function.\n",
        "\n",
        "Here's an example to illustrate the difference:\n",
        "\n",
        "```python\n",
        "my_list = [1, 2, 3, 4, 5]  # This is an iterable\n",
        "\n",
        "# Convert the list into an iterator\n",
        "my_iterator = iter(my_list)\n",
        "\n",
        "# Access elements using the iterator\n",
        "print(next(my_iterator))  # Output: 1\n",
        "print(next(my_iterator))  # Output: 2\n",
        "```\n",
        "\n",
        "In this example, `my_list` is an iterable, but `my_iterator` is an iterator created from `my_list`. The `next()` function is used to retrieve elements from the iterator one by one.\n",
        "\n",
        "Understanding the distinction between iterables and iterators is important when working with sequences in Python."
      ],
      "metadata": {
        "id": "joQ2Rs4YGeoH"
      }
    },
    {
      "cell_type": "code",
      "source": [
        "## QUES 6) Explain the concept of generators in Python and how they are defined."
      ],
      "metadata": {
        "id": "_wPcGJ7XGysH"
      },
      "execution_count": null,
      "outputs": []
    },
    {
      "cell_type": "markdown",
      "source": [
        "Generators in Python are a powerful way to create iterators. They allow you to generate a sequence of values on-the-fly without storing them in memory all at once. This makes generators very memory efficient, especially when dealing with large datasets or infinite sequences.\n",
        "\n",
        "Generators are defined using a function that contains one or more `yield` statements. When a generator function is called, it returns a generator object without executing the function's code immediately. Each time the `next()` function is called on the generator object, the function's code runs until it reaches a `yield` statement. The value specified after `yield` is returned, and the function's state is saved, allowing it to resume from that point the next time `next()` is called.\n",
        "\n",
        "Here's an example of a simple generator function that generates a sequence of square numbers:\n",
        "\n",
        "```python\n",
        "def square_generator(n):\n",
        "    for i in range(n):\n",
        "        yield i ** 2\n",
        "\n",
        "# Using the generator to generate square numbers\n",
        "my_generator = square_generator(5)\n",
        "\n",
        "# Getting values from the generator\n",
        "print(next(my_generator))  # Output: 0\n",
        "print(next(my_generator))  # Output: 1\n",
        "print(next(my_generator))  # Output: 4\n",
        "```\n",
        "\n",
        "In this example, `square_generator` is a generator function that yields the square of numbers up to `n`. When `next()` is called on `my_generator`, it produces the next square number in the sequence.\n",
        "\n",
        "Generators are particularly useful in scenarios where you need to iterate over a large dataset or when you want to create an infinite sequence. They provide a clean and efficient way to work with sequences without loading all the data into memory at once."
      ],
      "metadata": {
        "id": "BeCckXeDG6t5"
      }
    },
    {
      "cell_type": "code",
      "source": [
        "## QUES 7)  What are the advantages of using generators over regular functions?"
      ],
      "metadata": {
        "id": "Y96KXwCnHL4j"
      },
      "execution_count": null,
      "outputs": []
    },
    {
      "cell_type": "markdown",
      "source": [
        "Generators offer several advantages over regular functions in Python. One key advantage is memory efficiency. Generators generate values on-the-fly and only store the current state of the iteration, rather than the entire sequence of values. This makes them ideal for working with large datasets or infinite sequences without consuming excessive memory.\n",
        "\n",
        "Another advantage of generators is their simplicity and readability. Generator functions use the `yield` statement, which allows for a more concise and elegant way to create iterators compared to manually managing iteration state in regular functions. This can lead to cleaner and more maintainable code.\n",
        "\n",
        "Generators also provide lazy evaluation, meaning that values are generated only when needed. This can result in improved performance, especially when dealing with computations that are time-consuming or resource-intensive. By generating values on demand, generators can reduce unnecessary computation and improve overall efficiency.\n",
        "\n",
        "Additionally, generators support iteration protocols in Python, making them compatible with constructs like `for` loops, list comprehensions, and other iterable operations. This flexibility allows generators to seamlessly integrate with existing Python code and libraries, enhancing code reusability and interoperability.\n",
        "\n",
        "Overall, the advantages of generators, including memory efficiency, simplicity, lazy evaluation, and compatibility with iteration protocols, make them a valuable tool for working with sequences and iterating over data in Python."
      ],
      "metadata": {
        "id": "khIt0YlAHYJg"
      }
    },
    {
      "cell_type": "code",
      "source": [
        "## QUES 8)  What is a lambda function in Python and when is it typically used?"
      ],
      "metadata": {
        "id": "uTI1JQaCIQiw"
      },
      "execution_count": null,
      "outputs": []
    },
    {
      "cell_type": "markdown",
      "source": [
        "A lambda function in Python is a small anonymous function defined using the `lambda` keyword. It can take any number of arguments but can only have one expression. Lambda functions are often used when a small, unnamed function is needed for a short period in the code.\n",
        "\n",
        "Lambda functions are typically used in situations where a function is required for a short period, for example, as an argument to higher-order functions like `map`, `filter`, and `reduce`. They are handy for writing quick throwaway functions without the need to define a formal function using the `def` keyword.\n",
        "\n",
        "Lambda functions are also commonly used in situations where defining a named function is unnecessary or would clutter the code. They provide a concise way to write functions inline, making the code more readable and maintaining a functional programming style.\n",
        "\n",
        "Overall, lambda functions are useful for creating small, simple functions on the fly without the overhead of defining a formal function. They are often employed in functional programming paradigms and when a quick, short function is needed in a specific context."
      ],
      "metadata": {
        "id": "VZjmCpZgIUo2"
      }
    },
    {
      "cell_type": "code",
      "source": [
        "## QUES 9) Explain the purpose and usage of the `map()` function in Python."
      ],
      "metadata": {
        "id": "cKLs_9jZIiiH"
      },
      "execution_count": null,
      "outputs": []
    },
    {
      "cell_type": "markdown",
      "source": [
        "The `map()` function in Python is used to apply a specified function to each item in an iterable (such as a list) and return a new iterable with the results. The main purpose of `map()` is to transform data in a concise and efficient way without the need for explicit loops.\n",
        "\n",
        "Here's how you typically use the `map()` function:\n",
        "1. Define a function that you want to apply to each element of the iterable.\n",
        "2. Pass this function as the first argument to the `map()` function.\n",
        "3. Provide the iterable (list, tuple, etc.) as the second argument to `map()`.\n",
        "\n",
        "The `map()` function then applies the specified function to each element of the iterable, returning a new iterable with the results of applying the function to each element in the original iterable.\n",
        "\n",
        "For example, if you have a list of numbers and you want to square each number, you can use `map()` along with a lambda function like this:\n",
        "```python\n",
        "numbers = [1, 2, 3, 4, 5]\n",
        "squared_numbers = list(map(lambda x: x**2, numbers))\n",
        "```\n",
        "In this example, the lambda function `lambda x: x**2` squares each number in the `numbers` list, and the result is stored in the `squared_numbers` list.\n",
        "\n",
        "Overall, the `map()` function is a powerful tool in Python for applying a function to each element of an iterable, making it a convenient way to transform and manipulate data efficiently."
      ],
      "metadata": {
        "id": "dbBPMx3vNVaF"
      }
    },
    {
      "cell_type": "code",
      "source": [
        "## QUES 10) What is the difference between `map()`, `reduce()`, and `filter()` functions in Python?"
      ],
      "metadata": {
        "id": "CCeiZyFpNdRZ"
      },
      "execution_count": null,
      "outputs": []
    },
    {
      "cell_type": "markdown",
      "source": [
        "Certainly! Let's break down the differences between `map()`, `reduce()`, and `filter()` functions in Python.\n",
        "\n",
        "1. `map()` function:\n",
        "- Purpose: The `map()` function is used to apply a specified function to each item in an iterable and return a new iterable with the results.\n",
        "- Usage: It transforms each element of the iterable using the provided function and returns the transformed elements in a new iterable.\n",
        "- Example: If you have a list of numbers and you want to square each number, you can use `map()` with a lambda function to achieve this transformation.\n",
        "\n",
        "2. `reduce()` function:\n",
        "- Purpose: The `reduce()` function is used to apply a specified function to the elements of an iterable sequentially to reduce the iterable to a single value.\n",
        "- Usage: It iteratively applies the function to pairs of elements in the iterable until all elements are processed, resulting in a single value.\n",
        "- Example: If you have a list of numbers and you want to find the sum of all numbers, you can use `reduce()` with the `operator.add` function to cumulatively add the numbers.\n",
        "\n",
        "3. `filter()` function:\n",
        "- Purpose: The `filter()` function is used to construct a new iterable from elements of an existing iterable that satisfy a certain condition.\n",
        "- Usage: It evaluates each element in the iterable using a function that returns a Boolean value, keeping only the elements that meet the specified condition.\n",
        "- Example: If you have a list of numbers and you want to filter out only the even numbers, you can use `filter()` with a lambda function that checks for even numbers.\n",
        "\n",
        "In summary, `map()` is for transforming elements, `reduce()` is for reducing elements to a single value, and `filter()` is for selecting elements based on a condition. Each function serves a distinct purpose in data manipulation and processing in Python."
      ],
      "metadata": {
        "id": "LrmdYO8eN_BA"
      }
    },
    {
      "cell_type": "code",
      "source": [
        "## QUES 11) . Using pen & Paper write the internal mechanism for sum operation using  reduce function on this given\n",
        "list:[47,11,42,13];"
      ],
      "metadata": {
        "id": "93axwqnhOLUs"
      },
      "execution_count": null,
      "outputs": []
    },
    {
      "cell_type": "markdown",
      "source": [],
      "metadata": {
        "id": "MZeQFVnmOj1S"
      }
    },
    {
      "cell_type": "markdown",
      "source": [
        "PRACTICAL QUESTION"
      ],
      "metadata": {
        "id": "a85lHEHGOSJj"
      }
    },
    {
      "cell_type": "code",
      "source": [
        "## QUES 1) Write a Python function that takes a list of numbers as input and returns the sum of all even numbers in\n",
        "## the list\n",
        "\n",
        "def even_sum(numbers):\n",
        "  sum=0\n",
        "  for n in numbers:\n",
        "    if i%2 == 0:\n",
        "      sum = sum+n\n",
        "    return sum\n",
        ""
      ],
      "metadata": {
        "id": "2RpA6O0jeuQN"
      },
      "execution_count": 6,
      "outputs": []
    },
    {
      "cell_type": "code",
      "source": [
        "## QUES 2)  Create a Python function that accepts a string and returns the reverse of that string\n",
        "\n",
        "string = \"Hi i am Sam\"\n",
        "reverse = \"\"\n",
        "for i in range(len(string)):\n",
        "  reverse = string[i] + reverse\n",
        "  print(reverse)"
      ],
      "metadata": {
        "colab": {
          "base_uri": "https://localhost:8080/"
        },
        "id": "9C7MOwfDfp6a",
        "outputId": "fc948dda-6f6e-47f7-e441-53bd07306c17"
      },
      "execution_count": null,
      "outputs": [
        {
          "output_type": "stream",
          "name": "stdout",
          "text": [
            "H\n",
            "iH\n",
            " iH\n",
            "i iH\n",
            " i iH\n",
            "a i iH\n",
            "ma i iH\n",
            " ma i iH\n",
            "S ma i iH\n",
            "aS ma i iH\n",
            "maS ma i iH\n"
          ]
        }
      ]
    },
    {
      "cell_type": "code",
      "source": [
        "## QUES 3) Implement a Python function that takes a list of integers and returns a new list containing the squares of\n",
        "## each number\n",
        "l=[]\n",
        "for i in range(1,10):\n",
        "  l.append(i)\n",
        "  print (\"original list \")\n",
        "  print(i)\n",
        "  newlist = [i*i for i in l]\n",
        "  print(newlist)"
      ],
      "metadata": {
        "colab": {
          "base_uri": "https://localhost:8080/"
        },
        "id": "W7UJgRRGh5pK",
        "outputId": "b8d5aa1b-0746-45c1-ce5e-91b143027bc5"
      },
      "execution_count": null,
      "outputs": [
        {
          "output_type": "stream",
          "name": "stdout",
          "text": [
            "original list \n",
            "1\n",
            "[1]\n",
            "original list \n",
            "2\n",
            "[1, 4]\n",
            "original list \n",
            "3\n",
            "[1, 4, 9]\n",
            "original list \n",
            "4\n",
            "[1, 4, 9, 16]\n",
            "original list \n",
            "5\n",
            "[1, 4, 9, 16, 25]\n",
            "original list \n",
            "6\n",
            "[1, 4, 9, 16, 25, 36]\n",
            "original list \n",
            "7\n",
            "[1, 4, 9, 16, 25, 36, 49]\n",
            "original list \n",
            "8\n",
            "[1, 4, 9, 16, 25, 36, 49, 64]\n",
            "original list \n",
            "9\n",
            "[1, 4, 9, 16, 25, 36, 49, 64, 81]\n"
          ]
        }
      ]
    },
    {
      "cell_type": "code",
      "source": [
        "## Write a Python function that checks if a given number is prime or not from 1 to 200\n",
        "\n",
        "num = int(input(\"enter the number\"))\n",
        "if num == 1:\n",
        "  print(\"not a prime number\")\n",
        "  if num > 1:\n",
        "    for n in range(2,num):\n",
        "      if num % 2 == 0:\n",
        "        print(num, \"is not prime number\")\n",
        "        break\n",
        "else:\n",
        "    print(num, \"is prime number\")"
      ],
      "metadata": {
        "colab": {
          "base_uri": "https://localhost:8080/"
        },
        "id": "gA0Mc91Xe4-H",
        "outputId": "aa408fa3-e179-4e6b-b702-35867f6506a5"
      },
      "execution_count": 50,
      "outputs": [
        {
          "output_type": "stream",
          "name": "stdout",
          "text": [
            "enter the number33\n",
            "33 is prime number\n"
          ]
        }
      ]
    },
    {
      "cell_type": "code",
      "source": [
        "## QUES 5) Create an iterator class in Python that generates the Fibonacci sequence up to a specified number of\n",
        "## terms.\n",
        "def fib(n):\n",
        "  a=0\n",
        "  b=1\n",
        "  for i in range(5):\n",
        "    yield a\n",
        "    a,b = b,a+b"
      ],
      "metadata": {
        "id": "qukcq9PjfpJM"
      },
      "execution_count": 56,
      "outputs": []
    }
  ]
}