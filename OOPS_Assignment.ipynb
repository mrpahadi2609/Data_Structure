{
  "nbformat": 4,
  "nbformat_minor": 0,
  "metadata": {
    "colab": {
      "provenance": [],
      "authorship_tag": "ABX9TyNvhBmj3ZkTjYV34Kk5ADfn",
      "include_colab_link": true
    },
    "kernelspec": {
      "name": "python3",
      "display_name": "Python 3"
    },
    "language_info": {
      "name": "python"
    }
  },
  "cells": [
    {
      "cell_type": "markdown",
      "metadata": {
        "id": "view-in-github",
        "colab_type": "text"
      },
      "source": [
        "<a href=\"https://colab.research.google.com/github/mrpahadi2609/Data_Structure/blob/main/OOPS_Assignment.ipynb\" target=\"_parent\"><img src=\"https://colab.research.google.com/assets/colab-badge.svg\" alt=\"Open In Colab\"/></a>"
      ]
    },
    {
      "cell_type": "code",
      "execution_count": null,
      "metadata": {
        "id": "cumnLIdVSAbP"
      },
      "outputs": [],
      "source": [
        "## QUES 1)  What are the five key concepts of Object-Oriented Programming (OOP)?"
      ]
    },
    {
      "cell_type": "markdown",
      "source": [
        "Let's dive into each of these key concepts in more detail:\n",
        "\n",
        "1. *Encapsulation*: Encapsulation is the concept of bundling the data (attributes) and methods (functions) that operate on the data into a single unit called an object. It helps in hiding the internal state of an object and only allowing access to it through public methods. This way, the object's data is protected and can only be modified in a controlled manner.\n",
        "\n",
        "2. *Inheritance*: Inheritance is a mechanism where a new class (derived class) is created based on an existing class (base class). The derived class inherits attributes and methods from the base class, allowing for code reuse and establishing a hierarchical relationship between classes. This concept promotes the reusability of code and helps in creating a more organized structure.\n",
        "\n",
        "3. *Polymorphism*: Polymorphism allows objects of different classes to be treated as objects of a common superclass. It enables a single interface to represent different data types or objects. Polymorphism can take different forms, such as method overloading (having multiple methods with the same name but different parameters) and method overriding (redefining a method in a subclass).\n",
        "\n",
        "4. *Abstraction*: Abstraction is the process of hiding the complex implementation details and showing only the essential features of an object. It focuses on what an object does rather than how it does it. By abstracting the unnecessary details, abstraction helps in simplifying the programming model and managing complexity.\n",
        "\n",
        "5. *Classes and Objects*: In OOP, a class is a blueprint for creating objects. It defines the properties (attributes) and behaviors (methods) that objects of the class will have. Objects are instances of classes, representing specific entities with unique states and behaviors. Classes and objects are fundamental concepts in OOP, allowing for the creation of modular and reusable code.\n",
        "\n",
        "These key concepts form the foundation of Object-Oriented Programming and are essential for developing robust, maintainable, and scalable software systems."
      ],
      "metadata": {
        "id": "rKgjN0GoSVcU"
      }
    },
    {
      "cell_type": "code",
      "source": [
        "## QUES 2) . Write a Python class for a `Car` with attributes for `make`, `model`, and `year`. Include a method to display\n",
        "## the car's information."
      ],
      "metadata": {
        "id": "XxysPxqqSxIs"
      },
      "execution_count": 1,
      "outputs": []
    },
    {
      "cell_type": "markdown",
      "source": [
        "Here's the Python code for the Car class:\n",
        "\n",
        "python\n",
        "class Car:\n",
        "    def __init__(self, make, model, year):\n",
        "        self.make = make\n",
        "        self.model = model\n",
        "        self.year = year\n",
        "    \n",
        "    def display_info(self):\n",
        "        print(f\"Car Information: {self.year} {self.make} {self.model}\")\n",
        "\n",
        "# Creating an instance of the Car class\n",
        "my_car = Car(\"Toyota\", \"Corolla\", 2022)\n",
        "my_car.display_info()\n",
        "\n",
        "\n",
        "In this class:\n",
        "- The __init__ method is a constructor that initializes the make, model, and year attributes of the Car class when an object is created.\n",
        "- The display_info method prints out the information of the car in the format: \"Car Information: year make model\".\n",
        "- An instance of the Car class is created with the make \"Toyota\", model \"Corolla\", and year 2022, and then the display_info method is called to show the car's information."
      ],
      "metadata": {
        "id": "ntzh6NKyTA39"
      }
    },
    {
      "cell_type": "code",
      "source": [
        "## QUES 3) Explain the difference between instance methods and class methods. Provide an example of each"
      ],
      "metadata": {
        "id": "Xz6oYAWsTcHN"
      },
      "execution_count": 2,
      "outputs": []
    },
    {
      "cell_type": "markdown",
      "source": [
        "Instance methods are functions that are defined inside a class and are intended to be used with instances of that class. These methods operate on the instance's specific data and can access and modify the object's attributes. When you call an instance method, it implicitly passes the instance itself as the first argument (conventionally named self).\n",
        "\n",
        "Here's an example of an instance method in a Python class:\n",
        "\n",
        "python\n",
        "class Dog:\n",
        "    def __init__(self, name):\n",
        "        self.name = name\n",
        "    \n",
        "    def bark(self):\n",
        "        print(f\"{self.name} says Woof!\")\n",
        "\n",
        "# Creating an instance of the Dog class\n",
        "my_dog = Dog(\"Buddy\")\n",
        "my_dog.bark()\n",
        "\n",
        "\n",
        "In this example, the bark method is an instance method because it operates on a specific instance of the Dog class (my_dog) and accesses the instance's name attribute.\n",
        "\n",
        "On the other hand, class methods are methods that are bound to the class itself rather than the instances of the class. They can access and modify class-level data but not instance-specific data. Class methods are defined using the @classmethod decorator, and by convention, the first parameter is usually named cls to refer to the class itself.\n",
        "\n",
        "Here's an example of a class method in a Python class:\n",
        "\n",
        "python\n",
        "class Circle:\n",
        "    pi = 3.14\n",
        "    \n",
        "    def __init__(self, radius):\n",
        "        self.radius = radius\n",
        "    \n",
        "    @classmethod\n",
        "    def get_pi(cls):\n",
        "        return cls.pi\n",
        "\n",
        "# Accessing the class method without an instance\n",
        "print(Circle.get_pi())\n",
        "\n",
        "\n",
        "In this example, the get_pi method is a class method that accesses the class attribute pi without needing an instance of the Circle class.\n",
        "\n",
        "In summary, instance methods are used for operations that require access to instance-specific data, while class methods are used for operations that involve the class itself or class-level data. Both types of methods have their specific use cases based on whether you need to work with instance-specific or class-specific data."
      ],
      "metadata": {
        "id": "iOycgEzCTnaD"
      }
    },
    {
      "cell_type": "code",
      "source": [
        "## QUES 4) 4. How does Python implement method overloading? Give an example"
      ],
      "metadata": {
        "id": "paO_kf0HUCEm"
      },
      "execution_count": null,
      "outputs": []
    },
    {
      "cell_type": "markdown",
      "source": [
        "In Python, method overloading is not directly supported as it is in some other programming languages like Java or C++. However, Python allows for a form of method overloading through a technique called \"default arguments\" and using variable arguments (*args and **kwargs).\n",
        "\n",
        "By defining multiple methods with the same name but different numbers or types of parameters, you can achieve a similar effect to method overloading. Python determines which method to call based on the number and type of arguments passed during the function call.\n",
        "\n",
        "Here's an example to illustrate method overloading in Python using default arguments:\n",
        "\n",
        "python\n",
        "class Calculator:\n",
        "    def add(self, a, b=0, c=0):\n",
        "        return a + b + c\n",
        "\n",
        "# Creating an instance of the Calculator class\n",
        "calc = Calculator()\n",
        "\n",
        "# Calling the add method with different numbers of arguments\n",
        "print(calc.add(2))          # Output: 2\n",
        "print(calc.add(2, 3))       # Output: 5\n",
        "print(calc.add(2, 3, 4))    # Output: 9\n",
        "\n",
        "\n",
        "In this example, the add method in the Calculator class is defined with default arguments. By providing different numbers of arguments when calling the method, Python determines which version of the method to execute based on the provided arguments.\n",
        "\n",
        "While this approach allows you to achieve method overloading-like behavior in Python, it's essential to note that Python does not have true method overloading as seen in some statically-typed languages. Instead, Python relies on dynamic typing and flexibility in function definitions to handle different argument scenarios."
      ],
      "metadata": {
        "id": "Pr-UzY0fUTi3"
      }
    },
    {
      "cell_type": "code",
      "source": [
        "## QUES 5) What are the three types of access modifiers in Python? How are they denoted?"
      ],
      "metadata": {
        "id": "Y_iPxY3SU_RM"
      },
      "execution_count": null,
      "outputs": []
    },
    {
      "cell_type": "markdown",
      "source": [
        "In Python, there are three types of access modifiers that control the visibility of class members (variables and methods). These access modifiers are:\n",
        "\n",
        "1. Public: Public members are accessible from outside the class. In Python, all members are public by default. They can be accessed using the class instance.\n",
        "\n",
        "2. Protected: Protected members are accessible within the class and its subclasses. In Python, protected members are denoted by prefixing the member name with a single underscore _.\n",
        "\n",
        "3. Private: Private members are accessible only within the class that defines them. In Python, private members are denoted by prefixing the member name with double underscores __.\n",
        "\n",
        "Here's an example to illustrate these access modifiers in Python:\n",
        "\n",
        "python\n",
        "class MyClass:\n",
        "    def __init__(self):\n",
        "        self.public_var = \"I'm a public variable\"\n",
        "        self._protected_var = \"I'm a protected variable\"\n",
        "        self.__private_var = \"I'm a private variable\"\n",
        "\n",
        "    def display(self):\n",
        "        print(\"Public Variable:\", self.public_var)\n",
        "        print(\"Protected Variable:\", self._protected_var)\n",
        "        print(\"Private Variable:\", self.__private_var)\n",
        "\n",
        "# Creating an instance of the MyClass class\n",
        "obj = MyClass()\n",
        "\n",
        "# Accessing and displaying the class members\n",
        "obj.display()\n",
        "\n",
        "\n",
        "In this example, public_var is a public variable, _protected_var is a protected variable, and __private_var is a private variable. By running the display method, you can see the visibility of these variables based on their access modifiers.\n",
        "\n",
        "Remember that in Python, the use of access modifiers is based on convention and not enforced by the language. Developers should follow the naming conventions to respect the intended visibility of class members."
      ],
      "metadata": {
        "id": "oHZV0NK3VJ-p"
      }
    },
    {
      "cell_type": "code",
      "source": [
        "## QUES 6) Describe the five types of inheritance in Python. Provide a simple example of multiple inheritance."
      ],
      "metadata": {
        "id": "oLqjG6n9Vjcz"
      },
      "execution_count": null,
      "outputs": []
    },
    {
      "cell_type": "markdown",
      "source": [
        "In Python, inheritance is a way to form new classes using classes that have already been defined. There are five types of inheritance in Python:\n",
        "\n",
        "1. Single Inheritance: A class inherits from only one base class.\n",
        "2. Multiple Inheritance: A class inherits from more than one base class.\n",
        "3. Multilevel Inheritance: A class inherits from a derived class, creating a chain of inheritance.\n",
        "4. Hierarchical Inheritance: Multiple classes inherit from a single base class.\n",
        "5. Hybrid Inheritance: Combination of two or more types of inheritance.\n",
        "\n",
        "Here's a simple example of multiple inheritance in Python:\n",
        "\n",
        "python\n",
        "class Parent1:\n",
        "    def method1(self):\n",
        "        print(\"Method from Parent1\")\n",
        "\n",
        "class Parent2:\n",
        "    def method2(self):\n",
        "        print(\"Method from Parent2\")\n",
        "\n",
        "class Child(Parent1, Parent2):\n",
        "    def method3(self):\n",
        "        print(\"Method from Child\")\n",
        "\n",
        "# Creating an instance of the Child class\n",
        "child_obj = Child()\n",
        "\n",
        "# Accessing methods from both Parent1 and Parent2\n",
        "child_obj.method1()\n",
        "child_obj.method2()\n",
        "child_obj.method3()\n",
        "\n",
        "\n",
        "In this example, the Child class inherits from both Parent1 and Parent2, demonstrating multiple inheritance. The Child class inherits methods from both parent classes, allowing instances of the Child class to access methods from both Parent1 and Parent2."
      ],
      "metadata": {
        "id": "n9R5GkSkVuHT"
      }
    },
    {
      "cell_type": "code",
      "source": [
        "## QUES 7) What is the Method Resolution Order (MRO) in Python? How can you retrieve it programmatically?"
      ],
      "metadata": {
        "id": "n4hkFOOzV3s4"
      },
      "execution_count": null,
      "outputs": []
    },
    {
      "cell_type": "markdown",
      "source": [
        "In Python, the Method Resolution Order (MRO) defines the order in which methods are resolved in multiple inheritance. It determines the sequence in which the base classes are searched when a method is called in a derived class. The MRO ensures that a consistent and predictable order is followed to resolve methods across the inheritance hierarchy.\n",
        "\n",
        "To retrieve the Method Resolution Order programmatically in Python, you can use the mro() method. This method is available on the class object and returns a tuple that represents the MRO of the class.\n",
        "\n",
        "Here's an example to demonstrate how to retrieve the Method Resolution Order programmatically:\n",
        "\n",
        "python\n",
        "class Parent1:\n",
        "    pass\n",
        "\n",
        "class Parent2:\n",
        "    pass\n",
        "\n",
        "class Child(Parent1, Parent2):\n",
        "    pass\n",
        "\n",
        "# Retrieving the Method Resolution Order for the Child class\n",
        "mro_sequence = Child.mro()\n",
        "\n",
        "print(\"Method Resolution Order for Child class:\", mro_sequence)\n",
        "\n",
        "\n",
        "In this example, the mro() method is called on the Child class to retrieve the Method Resolution Order. The returned tuple represents the sequence in which Python will search for methods in the Child class and its parent classes (Parent1 and Parent2) following the C3 linearization algorithm."
      ],
      "metadata": {
        "id": "6YKVRdX9WAnk"
      }
    },
    {
      "cell_type": "code",
      "source": [
        "## QUES 8)  Create an abstract base class `Shape` with an abstract method `area()`. Then create two subclasses\n",
        "##`Circle` and `Rectangle` that implement the `area()` method"
      ],
      "metadata": {
        "id": "k_JdEMYVWK4j"
      },
      "execution_count": null,
      "outputs": []
    },
    {
      "cell_type": "markdown",
      "source": [
        "To create an abstract base class Shape with an abstract method area() and then implement two subclasses Circle and Rectangle, you can use Python's abc module for abstract base classes. Here's how you can do it:\n",
        "\n",
        "python\n",
        "from abc import ABC, abstractmethod\n",
        "import math\n",
        "\n",
        "Define the abstract base class Shape with an abstract method area()\n",
        "class Shape(ABC):\n",
        "    @abstractmethod\n",
        "    def area(self):\n",
        "        pass\n",
        "\n",
        " Define the Circle class that inherits from Shape\n",
        "class Circle(Shape):\n",
        "    def __init__(self, radius):\n",
        "        self.radius = radius\n",
        "\n",
        "    def area(self):\n",
        "        return math.pi * self.radius**2\n",
        "\n",
        "Define the Rectangle class that inherits from Shape\n",
        "class Rectangle(Shape):\n",
        "    def __init__(self, length, width):\n",
        "        self.length = length\n",
        "        self.width = width\n",
        "\n",
        "    def area(self):\n",
        "        return self.length * self.width\n",
        "\n",
        "Creating instances of Circle and Rectangle classes\n",
        "circle = Circle(5)\n",
        "rectangle = Rectangle(4, 6)\n",
        "\n",
        "Calculating and printing the areas of Circle and Rectangle\n",
        "print(\"Area of the Circle:\", circle.area())\n",
        "print(\"Area of the Rectangle:\", rectangle.area())\n",
        "\n",
        "\n",
        "In this code snippet, we first define an abstract base class Shape with an abstract method area(). Then, we create two subclasses Circle and Rectangle that inherit from the Shape class and implement the area() method specific to each shape. The Circle class calculates the area of a circle based on its radius, while the Rectangle class calculates the area of a rectangle based on its length and width.\n",
        "\n",
        "By using abstract classes and methods, we ensure that any class inheriting from Shape must implement the area() method, enforcing a consistent interface for shape classes."
      ],
      "metadata": {
        "id": "MG0ajKChWWvL"
      }
    },
    {
      "cell_type": "code",
      "source": [
        "## QUES 9)  Demonstrate polymorphism by creating a function that can work with different shape objects to calculate\n",
        "## and print their areas."
      ],
      "metadata": {
        "id": "k74zgElXWhx_"
      },
      "execution_count": 3,
      "outputs": []
    },
    {
      "cell_type": "markdown",
      "source": [
        "To demonstrate polymorphism in Python, you can create a function that can work with different shape objects (such as Circle and Rectangle) to calculate and print their areas. This function will take a Shape object as input and utilize the polymorphic behavior of the area() method implemented in the subclasses. Here's how you can achieve this:\n",
        "\n",
        "python\n",
        "def print_area(shape):\n",
        "    print(\"Area of the shape:\", shape.area())\n",
        "\n",
        "Using the print_area function with Circle and Rectangle objects\n",
        "circle = Circle(5)\n",
        "rectangle = Rectangle(4, 6)\n",
        "\n",
        "print_area(circle)     # Calculate and print the area of the Circle\n",
        "print_area(rectangle)  # Calculate and print the area of the Rectangle\n",
        "\n",
        "\n",
        "In this code snippet, the print_area() function takes a Shape object as input and calls the area() method on that object. Since both Circle and Rectangle classes have implemented the area() method, the function can work with instances of both classes polymorphically. This is because Python supports polymorphism, allowing different classes to be treated as instances of a common superclass.\n",
        "\n",
        "When you run this code, it will correctly calculate and print the areas of both the Circle and Rectangle objects using the same print_area() function, showcasing polymorphic behavior in action."
      ],
      "metadata": {
        "id": "4QzPX5EDXJHJ"
      }
    },
    {
      "cell_type": "code",
      "source": [
        "## QUES 10) . Implement encapsulation in a `BankAccount` class with private attributes for `balance` and\n",
        "## `account_number`. Include methods for deposit, withdrawal, and balance inquiry."
      ],
      "metadata": {
        "id": "xcrQcNb9XZdr"
      },
      "execution_count": null,
      "outputs": []
    },
    {
      "cell_type": "markdown",
      "source": [
        "To implement encapsulation in a BankAccount class with private attributes for balance and account_number, you can define the class with private attributes using double underscores (__). Private attributes are not accessible from outside the class directly. Here's how you can implement the BankAccount class with deposit, withdrawal, and balance inquiry methods:\n",
        "\n",
        "python\n",
        "class BankAccount:\n",
        "    def __init__(self, account_number, initial_balance=0):\n",
        "        self.__account_number = account_number\n",
        "        self.__balance = initial_balance\n",
        "\n",
        "    def deposit(self, amount):\n",
        "        if amount > 0:\n",
        "            self.__balance += amount\n",
        "            print(\"Deposit successful. New balance:\", self.__balance)\n",
        "        else:\n",
        "            print(\"Deposit amount should be greater than 0.\")\n",
        "\n",
        "    def withdraw(self, amount):\n",
        "        if amount > 0:\n",
        "            if self.__balance >= amount:\n",
        "                self.__balance -= amount\n",
        "                print(\"Withdrawal successful. New balance:\", self.__balance)\n",
        "            else:\n",
        "                print(\"Insufficient funds.\")\n",
        "        else:\n",
        "            print(\"Withdrawal amount should be greater than 0.\")\n",
        "\n",
        "    def inquire_balance(self):\n",
        "        print(\"Current balance:\", self.__balance)\n",
        "\n",
        "Creating a BankAccount object and performing operations\n",
        "my_account = BankAccount(\"12345\", 1000)\n",
        "my_account.deposit(500)\n",
        "my_account.withdraw(200)\n",
        "my_account.inquire_balance()\n",
        "\n",
        "\n",
        "In this BankAccount class:\n",
        "- __account_number and __balance are private attributes accessible only within the class.\n",
        "- The deposit() method allows depositing a positive amount into the account.\n",
        "- The withdraw() method allows withdrawing a positive amount if sufficient balance is available.\n",
        "- The inquire_balance() method prints the current balance of the account.\n",
        "\n",
        "By encapsulating the balance and account_number attributes as private, external code cannot directly access or modify them, ensuring data integrity and security within the BankAccount class.\n",
        "\n",
        "You can create an instance of the BankAccount class, perform deposit, withdrawal, and balance inquiry operations, and observe the encapsulation in action."
      ],
      "metadata": {
        "id": "oqoz7yh-XhzO"
      }
    },
    {
      "cell_type": "code",
      "source": [
        "## QUES 11) Write a class that overrides the `__str__` and `__add__` magic methods. What will these methods allow\n",
        "## you to do?"
      ],
      "metadata": {
        "id": "-61Vh2UJXqzX"
      },
      "execution_count": null,
      "outputs": []
    },
    {
      "cell_type": "markdown",
      "source": [
        "When you override the __str__ and __add__ magic methods in a class, you enable custom string representation and addition behavior for instances of that class.\n",
        "\n",
        "The __str__ method allows you to define how an object should be represented as a string when using functions like str() or print(). By overriding __str__, you can provide a more informative or customized string representation of your objects.\n",
        "\n",
        "The __add__ method allows you to define how two objects of your class should be added together using the + operator. By implementing __add__, you can specify the behavior of addition for instances of your class.\n",
        "\n",
        "For example, let's create a simple class called CustomNumber that overrides __str__ and __add__:\n",
        "\n",
        "python\n",
        "class CustomNumber:\n",
        "    def __init__(self, value):\n",
        "        self.value = value\n",
        "\n",
        "    def __str__(self):\n",
        "        return f\"CustomNumber({self.value})\"\n",
        "\n",
        "    def __add__(self, other):\n",
        "        if isinstance(other, CustomNumber):\n",
        "            return CustomNumber(self.value + other.value)\n",
        "        else:\n",
        "            return NotImplemented\n",
        "\n",
        "Creating instances of CustomNumber\n",
        "num1 = CustomNumber(5)\n",
        "num2 = CustomNumber(10)\n",
        "\n",
        "Custom string representation using __str__\n",
        "print(str(num1))  # Output: CustomNumber(5)\n",
        "\n",
        "Custom addition using __add__\n",
        "result = num1 + num2\n",
        "print(result)  # Output: CustomNumber(15)\n",
        "\n",
        "\n",
        "In this example:\n",
        "- The __str__ method in the CustomNumber class provides a custom string representation of the object when converted to a string.\n",
        "- The __add__ method defines the addition behavior for two CustomNumber instances, allowing you to customize how instances of this class are added together.\n",
        "\n",
        "By overriding these magic methods, you can control how instances of your class are converted to strings and how they interact with arithmetic operations like addition. This customization can make your classes more expressive and tailored to your specific needs."
      ],
      "metadata": {
        "id": "5vzavAz2Xz-r"
      }
    },
    {
      "cell_type": "code",
      "source": [
        "## QUES 12) Create a decorator that measures and prints the execution time of a function."
      ],
      "metadata": {
        "id": "2OdWl1ATYC_y"
      },
      "execution_count": null,
      "outputs": []
    },
    {
      "cell_type": "markdown",
      "source": [
        "To create a decorator that measures and prints the execution time of a function, you can define a decorator function that calculates the time taken to execute the wrapped function. Here's an example of how you can implement this:\n",
        "\n",
        "python\n",
        "import time\n",
        "from functools import wraps\n",
        "\n",
        "def measure_time(func):\n",
        "    @wraps(func)\n",
        "    def wrapper(*args, **kwargs):\n",
        "        start_time = time.time()\n",
        "        result = func(*args, **kwargs)\n",
        "        end_time = time.time()\n",
        "        execution_time = end_time - start_time\n",
        "        print(f\"Execution time for {func.__name__}: {execution_time} seconds\")\n",
        "        return result\n",
        "    return wrapper\n",
        "\n",
        "Applying the decorator to a function\n",
        "@measure_time\n",
        "def example_function(n):\n",
        "    total_sum = sum(range(n))\n",
        "    return total_sum\n",
        "\n",
        "Calling the decorated function\n",
        "result = example_function(1000000)\n",
        "print(\"Result:\", result)\n",
        "\n",
        "\n",
        "In this code snippet:\n",
        "- The measure_time decorator function takes a function as input and returns a wrapper function that calculates the execution time of the function.\n",
        "- The wrapper function records the start time before calling the wrapped function, calculates the execution time after the function execution, and then prints the elapsed time.\n",
        "- The @wraps(func) decorator is used to preserve the metadata of the original function, such as its name and docstring.\n",
        "- The example_function is decorated with @measure_time to measure and print the execution time when it is called.\n",
        "\n",
        "By using this decorator, you can easily measure the execution time of any function by simply applying the @measure_time decorator to it."
      ],
      "metadata": {
        "id": "ylFDkSebYIj-"
      }
    },
    {
      "cell_type": "code",
      "source": [
        "## QUES 13) Explain the concept of the Diamond Problem in multiple inheritance. How does Python resolve it?"
      ],
      "metadata": {
        "id": "5HtowGK0YZFF"
      },
      "execution_count": null,
      "outputs": []
    },
    {
      "cell_type": "markdown",
      "source": [
        "The Diamond Problem is a common issue that arises in programming languages that support multiple inheritance, where a class inherits from two classes that have a common ancestor. This leads to ambiguity in the inheritance hierarchy, causing conflicts in method resolution.\n",
        "\n",
        "In the context of Python, the Diamond Problem occurs when a subclass inherits from two different classes that have a common base class. If both parent classes implement the same method, the subclass may face ambiguity in deciding which method implementation to use.\n",
        "\n",
        "To resolve the Diamond Problem in Python, the language uses a method resolution order (MRO) algorithm. Python employs the C3 linearization algorithm to determine the order in which methods are inherited from parent classes. This algorithm ensures that classes are searched in a specific order, avoiding conflicts and providing a consistent method resolution path.\n",
        "\n",
        "By following the C3 linearization algorithm, Python's MRO guarantees that classes are visited in a predictable and unambiguous order, resolving any conflicts that may arise due to multiple inheritance. This mechanism helps maintain the integrity of the inheritance hierarchy and ensures that method resolution is well-defined and consistent."
      ],
      "metadata": {
        "id": "AZ1mUSqEYhT3"
      }
    },
    {
      "cell_type": "code",
      "source": [
        "## QUES 14)  Write a class method that keeps track of the number of instances created from a class."
      ],
      "metadata": {
        "id": "HxQqARFrYsxf"
      },
      "execution_count": null,
      "outputs": []
    },
    {
      "cell_type": "markdown",
      "source": [
        "To keep track of the number of instances created from a class in Python, you can use a class variable to count the number of instances created and increment it every time a new instance is initialized. Here's an example of how you can implement this:\n",
        "\n",
        "python\n",
        "class MyClass:\n",
        "    num_instances = 0  # Class variable to keep track of the number of instances\n",
        "\n",
        "    def __init__(self):\n",
        "        MyClass.num_instances += 1  # Increment the count when a new instance is created\n",
        "\n",
        "    @classmethod\n",
        "    def get_num_instances(cls):\n",
        "        return cls.num_instances\n",
        "\n",
        "Creating instances of the class\n",
        "obj1 = MyClass()\n",
        "obj2 = MyClass()\n",
        "obj3 = MyClass()\n",
        "\n",
        "Getting the number of instances created\n",
        "print(\"Number of instances created:\", MyClass.get_num_instances())  # Output: 3\n",
        "\n",
        "\n",
        "In this code snippet:\n",
        "- The MyClass class contains a class variable num_instances initialized to 0, which will be used to keep track of the number of instances created.\n",
        "- The __init__ method increments the num_instances class variable by 1 each time a new instance of the class is created.\n",
        "- The @classmethod decorator is used for the get_num_instances method, which returns the current count of instances created for the class.\n",
        "\n",
        "By using this approach, you can easily keep track of the number of instances created from a class by accessing the num_instances class variable."
      ],
      "metadata": {
        "id": "bUMETJM0Y41k"
      }
    },
    {
      "cell_type": "code",
      "source": [
        "## QUES 15) Implement a static method in a class that checks if a given year is a leap year."
      ],
      "metadata": {
        "id": "CJuvYgUFZjMw"
      },
      "execution_count": null,
      "outputs": []
    },
    {
      "cell_type": "markdown",
      "source": [
        "To implement a static method in a class that checks if a given year is a leap year in Python, you can define a static method within the class that performs the leap year check. Here's an example demonstrating how you can achieve this:\n",
        "\n",
        "python\n",
        "class LeapYearChecker:\n",
        "    @staticmethod\n",
        "    def is_leap_year(year):\n",
        "        if (year % 4 == 0 and year % 100 != 0) or (year % 400 == 0):\n",
        "            return True\n",
        "        else:\n",
        "            return False\n",
        "\n",
        "# Using the static method to check if a year is a leap year\n",
        "year_to_check = 2024\n",
        "if LeapYearChecker.is_leap_year(year_to_check):\n",
        "    print(f\"{year_to_check} is a leap year.\")\n",
        "else:\n",
        "    print(f\"{year_to_check} is not a leap year.\")\n",
        "\n",
        "\n",
        "In this code snippet:\n",
        "- The LeapYearChecker class contains a static method is_leap_year that takes a year as a parameter and checks whether it is a leap year based on the leap year rules.\n",
        "- The static method checks if the given year is divisible by 4 but not by 100 unless it is also divisible by 400, which defines a leap year.\n",
        "- The static method returns True if the year is a leap year and False otherwise.\n",
        "\n",
        "You can call the is_leap_year static method of the LeapYearChecker class with a specific year to determine if it is a leap year."
      ],
      "metadata": {
        "id": "0AnrlwBhZrH9"
      }
    }
  ]
}